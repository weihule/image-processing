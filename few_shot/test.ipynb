{
 "cells": [
  {
   "cell_type": "markdown",
   "source": [
    "参考：\n",
    "https://github.com/iioSnail/pytorch_deep_learning_examples"
   ],
   "metadata": {
    "collapsed": false
   },
   "id": "ac183e14e19a0b09"
  },
  {
   "cell_type": "code",
   "execution_count": 3,
   "id": "initial_id",
   "metadata": {
    "collapsed": true,
    "ExecuteTime": {
     "end_time": "2023-12-27T09:17:54.672387500Z",
     "start_time": "2023-12-27T09:17:54.656932600Z"
    }
   },
   "outputs": [],
   "source": [
    "import os\n",
    "import random\n",
    "from pathlib import Path\n",
    "import numpy as np\n",
    "import matplotlib.pyplot as plt\n",
    "from tqdm import tqdm\n",
    "\n",
    "import torch\n",
    "import torchvision\n",
    "from torch import nn\n",
    "from torchvision import transforms"
   ]
  },
  {
   "cell_type": "code",
   "execution_count": 2,
   "outputs": [
    {
     "data": {
      "text/plain": "device(type='cuda')"
     },
     "execution_count": 2,
     "metadata": {},
     "output_type": "execute_result"
    }
   ],
   "source": [
    "device = torch.device('cuda' if torch.cuda.is_available() else 'cpu')\n",
    "device"
   ],
   "metadata": {
    "collapsed": false,
    "ExecuteTime": {
     "end_time": "2023-12-27T09:16:36.998155300Z",
     "start_time": "2023-12-27T09:16:36.958331600Z"
    }
   },
   "id": "6425f3ad077debd4"
  },
  {
   "cell_type": "code",
   "execution_count": 14,
   "outputs": [
    {
     "name": "stdout",
     "output_type": "stream",
     "text": [
      "number1 = 964 number2 = 659 number = 1623\n"
     ]
    }
   ],
   "source": [
    "# 查看images_background中的类别数\n",
    "root = r\"D:\\workspace\\data\\omniglot-py\\images_background\"\n",
    "number1 = 0\n",
    "for i in Path(root).iterdir():\n",
    "    for sub_i in Path(i).iterdir():\n",
    "        if sub_i.is_dir():\n",
    "            number1 += 1\n",
    "\n",
    "number2= 0\n",
    "root2 = r\"D:\\workspace\\data\\omniglot-py\\images_evaluation\"\n",
    "for i in Path(root2).iterdir():\n",
    "    for sub_i in Path(i).iterdir():\n",
    "        if sub_i.is_dir():\n",
    "            number2 += 1\n",
    "print(f\"number1 = {number1} number2 = {number2} number = {number}\")"
   ],
   "metadata": {
    "collapsed": false,
    "ExecuteTime": {
     "end_time": "2023-12-27T09:42:44.319608300Z",
     "start_time": "2023-12-27T09:42:44.259897500Z"
    }
   },
   "id": "a6589d31098f85ad"
  },
  {
   "cell_type": "code",
   "execution_count": 8,
   "outputs": [
    {
     "name": "stdout",
     "output_type": "stream",
     "text": [
      "Files already downloaded and verified\n",
      "Files already downloaded and verified\n"
     ]
    }
   ],
   "source": [
    "train_dataset = torchvision.datasets.Omniglot(r'D:\\workspace\\data', background=True,        transform=transforms.ToTensor(), download=True)\n",
    "\n",
    "validation_dataset = torchvision.datasets.Omniglot(r'D:\\workspace\\data', background=False, transform=transforms.ToTensor(), download=True)"
   ],
   "metadata": {
    "collapsed": false,
    "ExecuteTime": {
     "end_time": "2023-12-27T09:38:14.229482600Z",
     "start_time": "2023-12-27T09:38:11.534373100Z"
    }
   },
   "id": "9eb8649533985700"
  },
  {
   "cell_type": "code",
   "execution_count": 11,
   "outputs": [
    {
     "name": "stdout",
     "output_type": "stream",
     "text": [
      "image size: torch.Size([1, 105, 105])\n",
      "target: 0\n"
     ]
    }
   ],
   "source": [
    "image, target = train_dataset[10]\n",
    "print(\"image size:\", image.size())\n",
    "print(\"target:\", target)"
   ],
   "metadata": {
    "collapsed": false,
    "ExecuteTime": {
     "end_time": "2023-12-27T09:39:06.900039600Z",
     "start_time": "2023-12-27T09:39:06.877746900Z"
    }
   },
   "id": "6b0125a1f639e25b"
  },
  {
   "cell_type": "code",
   "execution_count": 12,
   "outputs": [
    {
     "data": {
      "text/plain": "<matplotlib.image.AxesImage at 0x206ce86e8b0>"
     },
     "execution_count": 12,
     "metadata": {},
     "output_type": "execute_result"
    },
    {
     "data": {
      "text/plain": "<Figure size 640x480 with 1 Axes>",
      "image/png": "[encoded data removed]"
     },
     "metadata": {},
     "output_type": "display_data"
    }
   ],
   "source": [
    "plt.imshow(image.squeeze(), cmap=\"gray\")"
   ],
   "metadata": {
    "collapsed": false,
    "ExecuteTime": {
     "end_time": "2023-12-27T09:39:10.404743200Z",
     "start_time": "2023-12-27T09:39:10.179329400Z"
    }
   },
   "id": "965f3b42d71fd965"
  },
  {
   "cell_type": "code",
   "execution_count": 16,
   "outputs": [],
   "source": [
    "all_targets = np.array([train_dataset[i][1] for i in range(len(train_dataset))])\n",
    "all_labels = np.array(list(set(all_targets)))"
   ],
   "metadata": {
    "collapsed": false,
    "ExecuteTime": {
     "end_time": "2023-12-27T09:43:33.609494400Z",
     "start_time": "2023-12-27T09:43:28.568277600Z"
    }
   },
   "id": "359555708da57413"
  },
  {
   "cell_type": "code",
   "execution_count": 17,
   "outputs": [
    {
     "name": "stdout",
     "output_type": "stream",
     "text": [
      "[  0   0   0 ... 963 963 963] 19280\n",
      "[  0   1   2   3   4   5   6   7   8   9  10  11  12  13  14  15  16  17\n",
      "  18  19  20  21  22  23  24  25  26  27  28  29  30  31  32  33  34  35\n",
      "  36  37  38  39  40  41  42  43  44  45  46  47  48  49  50  51  52  53\n",
      "  54  55  56  57  58  59  60  61  62  63  64  65  66  67  68  69  70  71\n",
      "  72  73  74  75  76  77  78  79  80  81  82  83  84  85  86  87  88  89\n",
      "  90  91  92  93  94  95  96  97  98  99 100 101 102 103 104 105 106 107\n",
      " 108 109 110 111 112 113 114 115 116 117 118 119 120 121 122 123 124 125\n",
      " 126 127 128 129 130 131 132 133 134 135 136 137 138 139 140 141 142 143\n",
      " 144 145 146 147 148 149 150 151 152 153 154 155 156 157 158 159 160 161\n",
      " 162 163 164 165 166 167 168 169 170 171 172 173 174 175 176 177 178 179\n",
      " 180 181 182 183 184 185 186 187 188 189 190 191 192 193 194 195 196 197\n",
      " 198 199 200 201 202 203 204 205 206 207 208 209 210 211 212 213 214 215\n",
      " 216 217 218 219 220 221 222 223 224 225 226 227 228 229 230 231 232 233\n",
      " 234 235 236 237 238 239 240 241 242 243 244 245 246 247 248 249 250 251\n",
      " 252 253 254 255 256 257 258 259 260 261 262 263 264 265 266 267 268 269\n",
      " 270 271 272 273 274 275 276 277 278 279 280 281 282 283 284 285 286 287\n",
      " 288 289 290 291 292 293 294 295 296 297 298 299 300 301 302 303 304 305\n",
      " 306 307 308 309 310 311 312 313 314 315 316 317 318 319 320 321 322 323\n",
      " 324 325 326 327 328 329 330 331 332 333 334 335 336 337 338 339 340 341\n",
      " 342 343 344 345 346 347 348 349 350 351 352 353 354 355 356 357 358 359\n",
      " 360 361 362 363 364 365 366 367 368 369 370 371 372 373 374 375 376 377\n",
      " 378 379 380 381 382 383 384 385 386 387 388 389 390 391 392 393 394 395\n",
      " 396 397 398 399 400 401 402 403 404 405 406 407 408 409 410 411 412 413\n",
      " 414 415 416 417 418 419 420 421 422 423 424 425 426 427 428 429 430 431\n",
      " 432 433 434 435 436 437 438 439 440 441 442 443 444 445 446 447 448 449\n",
      " 450 451 452 453 454 455 456 457 458 459 460 461 462 463 464 465 466 467\n",
      " 468 469 470 471 472 473 474 475 476 477 478 479 480 481 482 483 484 485\n",
      " 486 487 488 489 490 491 492 493 494 495 496 497 498 499 500 501 502 503\n",
      " 504 505 506 507 508 509 510 511 512 513 514 515 516 517 518 519 520 521\n",
      " 522 523 524 525 526 527 528 529 530 531 532 533 534 535 536 537 538 539\n",
      " 540 541 542 543 544 545 546 547 548 549 550 551 552 553 554 555 556 557\n",
      " 558 559 560 561 562 563 564 565 566 567 568 569 570 571 572 573 574 575\n",
      " 576 577 578 579 580 581 582 583 584 585 586 587 588 589 590 591 592 593\n",
      " 594 595 596 597 598 599 600 601 602 603 604 605 606 607 608 609 610 611\n",
      " 612 613 614 615 616 617 618 619 620 621 622 623 624 625 626 627 628 629\n",
      " 630 631 632 633 634 635 636 637 638 639 640 641 642 643 644 645 646 647\n",
      " 648 649 650 651 652 653 654 655 656 657 658 659 660 661 662 663 664 665\n",
      " 666 667 668 669 670 671 672 673 674 675 676 677 678 679 680 681 682 683\n",
      " 684 685 686 687 688 689 690 691 692 693 694 695 696 697 698 699 700 701\n",
      " 702 703 704 705 706 707 708 709 710 711 712 713 714 715 716 717 718 719\n",
      " 720 721 722 723 724 725 726 727 728 729 730 731 732 733 734 735 736 737\n",
      " 738 739 740 741 742 743 744 745 746 747 748 749 750 751 752 753 754 755\n",
      " 756 757 758 759 760 761 762 763 764 765 766 767 768 769 770 771 772 773\n",
      " 774 775 776 777 778 779 780 781 782 783 784 785 786 787 788 789 790 791\n",
      " 792 793 794 795 796 797 798 799 800 801 802 803 804 805 806 807 808 809\n",
      " 810 811 812 813 814 815 816 817 818 819 820 821 822 823 824 825 826 827\n",
      " 828 829 830 831 832 833 834 835 836 837 838 839 840 841 842 843 844 845\n",
      " 846 847 848 849 850 851 852 853 854 855 856 857 858 859 860 861 862 863\n",
      " 864 865 866 867 868 869 870 871 872 873 874 875 876 877 878 879 880 881\n",
      " 882 883 884 885 886 887 888 889 890 891 892 893 894 895 896 897 898 899\n",
      " 900 901 902 903 904 905 906 907 908 909 910 911 912 913 914 915 916 917\n",
      " 918 919 920 921 922 923 924 925 926 927 928 929 930 931 932 933 934 935\n",
      " 936 937 938 939 940 941 942 943 944 945 946 947 948 949 950 951 952 953\n",
      " 954 955 956 957 958 959 960 961 962 963] 964\n"
     ]
    }
   ],
   "source": [
    "print(all_targets, len(all_targets))\n",
    "print(all_labels, len(all_labels))"
   ],
   "metadata": {
    "collapsed": false,
    "ExecuteTime": {
     "end_time": "2023-12-27T09:43:48.618249400Z",
     "start_time": "2023-12-27T09:43:48.585903Z"
    }
   },
   "id": "5f362f2ac1a5182f"
  },
  {
   "cell_type": "code",
   "execution_count": 36,
   "outputs": [],
   "source": [
    "def sample_batch(batch_size):\n",
    "    # 选取二分之一个batch的labels作为正样本，这样就完成了正样本的构造。\n",
    "    positive_labels = np.random.choice(all_labels, batch_size // 2)\n",
    "    \n",
    "    # 针对这些labels，每个选取两张相同类别的图片\n",
    "    batch = []\n",
    "    for label in positive_labels:\n",
    "        labels_indexes = np.argwhere(all_targets == label)\n",
    "        pair = np.random.choice(labels_indexes.flatten(), 2)\n",
    "        batch.append((pair[0], pair[1], 1))\n",
    "        \n",
    "    # 选取负样本\n",
    "    negative_labels = np.random.choice(all_labels, batch_size)\n",
    "    for sample1, sample2 in negative_labels.reshape(-1, 2):\n",
    "        sample1 = np.random.choice(np.argwhere(all_targets == sample1).flatten(), 1)\n",
    "        sample2 = np.random.choice(np.argwhere(all_targets == sample2).flatten(), 1)\n",
    "        batch.append((sample1.item(), sample2.item(), 0)) # 图片类别不相同，所以target为0\n",
    "        \n",
    "    random.shuffle(batch)\n",
    "    sample1_list = []\n",
    "    sample2_list = []\n",
    "    target_list = []\n",
    "    for sample1, sample2, target in batch:\n",
    "        sample1_list.append(train_dataset.__getitem__(sample1)[0])\n",
    "        sample2_list.append(train_dataset.__getitem__(sample2)[0])\n",
    "        target_list.append(target)\n",
    "    sample1 = torch.stack(sample1_list)\n",
    "    sample2 = torch.stack(sample2_list)\n",
    "    targets = torch.LongTensor(target_list)\n",
    "    return sample1, sample2, targets"
   ],
   "metadata": {
    "collapsed": false,
    "ExecuteTime": {
     "end_time": "2023-12-25T05:57:04.851388500Z",
     "start_time": "2023-12-25T05:57:04.842589700Z"
    }
   },
   "id": "c31d2789c2552541"
  },
  {
   "cell_type": "code",
   "execution_count": 38,
   "outputs": [
    {
     "name": "stdout",
     "output_type": "stream",
     "text": [
      "sample1: torch.Size([16, 1, 105, 105])\n",
      "sample2: torch.Size([16, 1, 105, 105])\n",
      "targets: tensor([0, 0, 0, 1, 1, 1, 1, 1, 1, 0, 0, 0, 1, 1, 0, 0])\n"
     ]
    }
   ],
   "source": [
    "sample1, sample2, targets = sample_batch(16)\n",
    "print(\"sample1:\", sample1.size())\n",
    "print(\"sample2:\", sample1.size())\n",
    "print(\"targets:\", targets)"
   ],
   "metadata": {
    "collapsed": false,
    "ExecuteTime": {
     "end_time": "2023-12-25T05:58:07.129861900Z",
     "start_time": "2023-12-25T05:58:06.998293Z"
    }
   },
   "id": "10189e1f7001aa67"
  },
  {
   "cell_type": "code",
   "execution_count": 47,
   "outputs": [
    {
     "data": {
      "text/plain": "                                      filename result\n0     ele_005807665b7ad9d176708074321222b3.jpg      0\n1     ele_005898faf5cb419d117f531022c2172d.jpg      0\n2     ele_011c08b56fbf12c9215760cad4351c19.jpg      0\n3     ele_012e8ab7c72d00d9eb345c8b726404da.jpg      0\n4     ele_01698053d610e12ecacee34e96266d4e.jpg      0\n...                                        ...    ...\n1722  ele_ff632dbcd356502cab861ff8f2c9f1c2.jpg      0\n1723  ele_ff731077f68f4eade63616ce2462fcf0.jpg      0\n1724  ele_ff9cae74ab500d31092b75f914ea0d48.jpg      0\n1725  ele_ffa5294f6831494f9a01336ad2c54f74.jpg      0\n1726  ele_ffb07b7c2ce5ba4b10659ba25fe79aa8.jpg      0\n\n[1727 rows x 2 columns]",
      "text/html": "<div>\n<style scoped>\n    .dataframe tbody tr th:only-of-type {\n        vertical-align: middle;\n    }\n\n    .dataframe tbody tr th {\n        vertical-align: top;\n    }\n\n    .dataframe thead th {\n        text-align: right;\n    }\n</style>\n<table border=\"1\" class=\"dataframe\">\n  <thead>\n    <tr style=\"text-align: right;\">\n      <th></th>\n      <th>filename</th>\n      <th>result</th>\n    </tr>\n  </thead>\n  <tbody>\n    <tr>\n      <th>0</th>\n      <td>ele_005807665b7ad9d176708074321222b3.jpg</td>\n      <td>0</td>\n    </tr>\n    <tr>\n      <th>1</th>\n      <td>ele_005898faf5cb419d117f531022c2172d.jpg</td>\n      <td>0</td>\n    </tr>\n    <tr>\n      <th>2</th>\n      <td>ele_011c08b56fbf12c9215760cad4351c19.jpg</td>\n      <td>0</td>\n    </tr>\n    <tr>\n      <th>3</th>\n      <td>ele_012e8ab7c72d00d9eb345c8b726404da.jpg</td>\n      <td>0</td>\n    </tr>\n    <tr>\n      <th>4</th>\n      <td>ele_01698053d610e12ecacee34e96266d4e.jpg</td>\n      <td>0</td>\n    </tr>\n    <tr>\n      <th>...</th>\n      <td>...</td>\n      <td>...</td>\n    </tr>\n    <tr>\n      <th>1722</th>\n      <td>ele_ff632dbcd356502cab861ff8f2c9f1c2.jpg</td>\n      <td>0</td>\n    </tr>\n    <tr>\n      <th>1723</th>\n      <td>ele_ff731077f68f4eade63616ce2462fcf0.jpg</td>\n      <td>0</td>\n    </tr>\n    <tr>\n      <th>1724</th>\n      <td>ele_ff9cae74ab500d31092b75f914ea0d48.jpg</td>\n      <td>0</td>\n    </tr>\n    <tr>\n      <th>1725</th>\n      <td>ele_ffa5294f6831494f9a01336ad2c54f74.jpg</td>\n      <td>0</td>\n    </tr>\n    <tr>\n      <th>1726</th>\n      <td>ele_ffb07b7c2ce5ba4b10659ba25fe79aa8.jpg</td>\n      <td>0</td>\n    </tr>\n  </tbody>\n</table>\n<p>1727 rows × 2 columns</p>\n</div>"
     },
     "execution_count": 47,
     "metadata": {},
     "output_type": "execute_result"
    }
   ],
   "source": [
    "import pandas as pd\n",
    "import os\n",
    "from pathlib import Path\n",
    "picture_root = r\"D:\\workspace\\MYData\\比赛\\厨房\\初赛试题\\picture\"\n",
    "video_root = r\"D:\\workspace\\MYData\\比赛\\厨房\\初赛试题\\video\"\n",
    "\n",
    "filename = []\n",
    "result = []\n",
    "\n",
    "ret = {\"filename\": [], \"result\": []}\n",
    "\n",
    "for i in Path(picture_root).iterdir():\n",
    "    ret[\"filename\"].append(i.name)\n",
    "for i in Path(video_root).iterdir():\n",
    "    ret[\"result\"].append(i.name)\n",
    "\n",
    "ret[\"result\"] = [str(0) for _ in range(len(ret[\"filename\"]))]\n",
    "\n",
    "ret = pd.DataFrame(ret)\n",
    "ret\n",
    "ret.to_csv(\"./test.cvs\", index=False)"
   ],
   "metadata": {
    "collapsed": false,
    "ExecuteTime": {
     "end_time": "2023-12-26T06:48:33.267614200Z",
     "start_time": "2023-12-26T06:48:33.232937900Z"
    }
   },
   "id": "cf60eab631c3d4e3"
  },
  {
   "cell_type": "code",
   "execution_count": 54,
   "outputs": [
    {
     "name": "stdout",
     "output_type": "stream",
     "text": [
      "{'description': 'This is a multiline\\nstring in YAML.\\nIt preserves line breaks\\nand allows for easy formatting.'}\n"
     ]
    }
   ],
   "source": [
    "import yaml\n",
    "with open(\"test.yaml\", 'r') as fr:\n",
    "    infos = yaml.safe_load(fr)\n",
    "print(infos)"
   ],
   "metadata": {
    "collapsed": false,
    "ExecuteTime": {
     "end_time": "2023-12-26T10:00:07.440227Z",
     "start_time": "2023-12-26T10:00:07.425826Z"
    }
   },
   "id": "394e2b7121f60efc"
  },
  {
   "cell_type": "code",
   "execution_count": 50,
   "outputs": [],
   "source": [],
   "metadata": {
    "collapsed": false,
    "ExecuteTime": {
     "end_time": "2023-12-26T09:44:47.161830400Z",
     "start_time": "2023-12-26T09:44:47.152035500Z"
    }
   },
   "id": "6dcd5f4aefe8a8d8"
  },
  {
   "cell_type": "code",
   "execution_count": null,
   "outputs": [],
   "source": [],
   "metadata": {
    "collapsed": false
   },
   "id": "c610249c4befb71d"
  }
 ],
 "metadata": {
  "kernelspec": {
   "display_name": "Python 3",
   "language": "python",
   "name": "python3"
  },
  "language_info": {
   "codemirror_mode": {
    "name": "ipython",
    "version": 2
   },
   "file_extension": ".py",
   "mimetype": "text/x-python",
   "name": "python",
   "nbconvert_exporter": "python",
   "pygments_lexer": "ipython2",
   "version": "2.7.6"
  }
 },
 "nbformat": 4,
 "nbformat_minor": 5
}
